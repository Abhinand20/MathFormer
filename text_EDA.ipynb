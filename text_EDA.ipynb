{
 "cells": [
  {
   "cell_type": "markdown",
   "metadata": {},
   "source": [
    "# EDA"
   ]
  },
  {
   "cell_type": "markdown",
   "metadata": {},
   "source": [
    "This notebook is just to analyze the dataset and come up with a solution based on the analysis"
   ]
  },
  {
   "cell_type": "code",
   "execution_count": 2,
   "metadata": {},
   "outputs": [],
   "source": [
    "from collections import Counter\n",
    "import os\n",
    "import re"
   ]
  },
  {
   "cell_type": "code",
   "execution_count": 3,
   "metadata": {},
   "outputs": [],
   "source": [
    "with open('dataset.txt','r') as f:\n",
    "    raw_text = f.read()\n",
    "    data = raw_text.splitlines()\n",
    "\n",
    "train_data = data[:int(len(data)*0.8)]"
   ]
  },
  {
   "cell_type": "markdown",
   "metadata": {},
   "source": [
    "#### Data exploration to generate vocab"
   ]
  },
  {
   "cell_type": "code",
   "execution_count": 4,
   "metadata": {},
   "outputs": [],
   "source": [
    "## Split into src and target\n",
    "# Get total chars\n",
    "# Get max length\n",
    "# Get unique tokens\n",
    "# Build a tokenization rule\n",
    "\n",
    "vocab = set()\n",
    "src = []\n",
    "trg = []\n",
    "for curr in train_data:\n",
    "    for ch in list(curr.lower()):\n",
    "        vocab.add(ch)\n",
    "    \n",
    "    s,t = curr.split('=')\n",
    "    src.append(s)\n",
    "    trg.append(t)\n"
   ]
  },
  {
   "cell_type": "code",
   "execution_count": 5,
   "metadata": {},
   "outputs": [
    {
     "data": {
      "text/plain": [
       "[('*', 6296348),\n",
       " ('-', 2932951),\n",
       " ('2', 2739472),\n",
       " ('(', 1717013),\n",
       " (')', 1717013),\n",
       " ('1', 1551639),\n",
       " ('+', 1249605),\n",
       " ('=', 1000000),\n",
       " ('4', 952516),\n",
       " ('3', 950998),\n",
       " ('6', 854153),\n",
       " ('5', 803947),\n",
       " ('8', 799495),\n",
       " ('7', 646955),\n",
       " ('0', 621755),\n",
       " ('s', 568438),\n",
       " ('n', 566389),\n",
       " ('i', 528183),\n",
       " ('9', 500412),\n",
       " ('t', 285215),\n",
       " ('a', 284688),\n",
       " ('c', 284521),\n",
       " ('o', 283088),\n",
       " ('y', 246024),\n",
       " ('z', 245599),\n",
       " ('k', 245042),\n",
       " ('h', 244132),\n",
       " ('j', 244094),\n",
       " ('x', 243916)]"
      ]
     },
     "execution_count": 5,
     "metadata": {},
     "output_type": "execute_result"
    }
   ],
   "source": [
    "\n",
    "\n",
    "def counts(pattern,s):\n",
    "    return Counter(re.findall(pattern,s)).most_common()\n",
    "\n",
    "## gets the count of all unique chars\n",
    "counts('.',raw_text)"
   ]
  },
  {
   "cell_type": "code",
   "execution_count": 8,
   "metadata": {},
   "outputs": [
    {
     "data": {
      "text/plain": [
       "[('sin', 39248)]"
      ]
     },
     "execution_count": 8,
     "metadata": {},
     "output_type": "execute_result"
    }
   ],
   "source": [
    "counts(r's[a-z]+',raw_text)"
   ]
  },
  {
   "cell_type": "code",
   "execution_count": 10,
   "metadata": {},
   "outputs": [
    {
     "data": {
      "text/plain": [
       "[('tan', 39257)]"
      ]
     },
     "execution_count": 10,
     "metadata": {},
     "output_type": "execute_result"
    }
   ],
   "source": [
    "counts(r't[a-z]+',raw_text)"
   ]
  },
  {
   "cell_type": "code",
   "execution_count": 9,
   "metadata": {},
   "outputs": [
    {
     "data": {
      "text/plain": [
       "[('cos', 39328)]"
      ]
     },
     "execution_count": 9,
     "metadata": {},
     "output_type": "execute_result"
    }
   ],
   "source": [
    "counts(r'c[a-z]+',raw_text)"
   ]
  },
  {
   "cell_type": "code",
   "execution_count": 7,
   "metadata": {},
   "outputs": [
    {
     "data": {
      "text/plain": [
       "[('*', 6296348),\n",
       " ('-', 2932951),\n",
       " ('2', 2739472),\n",
       " ('(', 1717013),\n",
       " (')', 1717013),\n",
       " ('1', 1551639),\n",
       " ('+', 1249605),\n",
       " ('=', 1000000),\n",
       " ('\\n', 1000000),\n",
       " ('4', 952516),\n",
       " ('3', 950998),\n",
       " ('6', 854153),\n",
       " ('5', 803947),\n",
       " ('8', 799495),\n",
       " ('7', 646955),\n",
       " ('0', 621755),\n",
       " ('9', 500412)]"
      ]
     },
     "execution_count": 7,
     "metadata": {},
     "output_type": "execute_result"
    }
   ],
   "source": [
    "counts(r'[^a-z]',raw_text)"
   ]
  },
  {
   "cell_type": "markdown",
   "metadata": {},
   "source": [
    "### Vocabulary elements -\n",
    "- Digits\n",
    "- Lowercase alphabets\n",
    "- Paranthesis\n",
    "- Trigonometry functions"
   ]
  },
  {
   "cell_type": "code",
   "execution_count": null,
   "metadata": {},
   "outputs": [],
   "source": [
    "# Regex to tokenize the data\n",
    "v_ptr = r\"sin|cos|tan|\\d|\\w|\\(|\\)|\\+|-|\\*+\"\n",
    "# vocab = [k for k,_ in counts(v_ptr, raw_text)]"
   ]
  }
 ],
 "metadata": {
  "interpreter": {
   "hash": "40d3a090f54c6569ab1632332b64b2c03c39dcf918b08424e98f38b5ae0af88f"
  },
  "kernelspec": {
   "display_name": "sslv1",
   "language": "python",
   "name": "python3"
  },
  "language_info": {
   "codemirror_mode": {
    "name": "ipython",
    "version": 3
   },
   "file_extension": ".py",
   "mimetype": "text/x-python",
   "name": "python",
   "nbconvert_exporter": "python",
   "pygments_lexer": "ipython3",
   "version": "3.7.4"
  },
  "orig_nbformat": 4
 },
 "nbformat": 4,
 "nbformat_minor": 2
}
